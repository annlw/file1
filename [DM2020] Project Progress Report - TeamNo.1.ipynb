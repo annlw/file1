{
 "cells": [
  {
   "cell_type": "code",
   "execution_count": 1,
   "metadata": {
    "colab": {
     "base_uri": "https://localhost:8080/",
     "height": 75,
     "resources": {
      "http://localhost:8080/nbextensions/google.colab/files.js": {
       "data": "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",
       "headers": [
        [
         "content-type",
         "application/javascript"
        ]
       ],
       "ok": true,
       "status": 200,
       "status_text": ""
      }
     }
    },
    "executionInfo": {
     "elapsed": 74859,
     "status": "ok",
     "timestamp": 1607090096151,
     "user": {
      "displayName": "Yueheng Yin",
      "photoUrl": "",
      "userId": "06368511126596171453"
     },
     "user_tz": -480
    },
    "id": "OPvDNjB33ryX",
    "outputId": "c1731051-65a0-47f3-a913-6e4af2623de1"
   },
   "outputs": [
    {
     "data": {
      "text/html": [
       "\n",
       "     <input type=\"file\" id=\"files-c32c657f-0592-4c63-ac81-a3fdf96172d8\" name=\"files[]\" multiple disabled\n",
       "        style=\"border:none\" />\n",
       "     <output id=\"result-c32c657f-0592-4c63-ac81-a3fdf96172d8\">\n",
       "      Upload widget is only available when the cell has been executed in the\n",
       "      current browser session. Please rerun this cell to enable.\n",
       "      </output>\n",
       "      <script src=\"/nbextensions/google.colab/files.js\"></script> "
      ],
      "text/plain": [
       "<IPython.core.display.HTML object>"
      ]
     },
     "metadata": {
      "tags": []
     },
     "output_type": "display_data"
    },
    {
     "name": "stdout",
     "output_type": "stream",
     "text": [
      "Saving dataset-of-10s.csv to dataset-of-10s.csv\n"
     ]
    }
   ],
   "source": [
    "from google.colab import files\n",
    "uploaded = files.upload()"
   ]
  },
  {
   "cell_type": "code",
   "execution_count": 2,
   "metadata": {
    "colab": {
     "base_uri": "https://localhost:8080/"
    },
    "executionInfo": {
     "elapsed": 1518,
     "status": "ok",
     "timestamp": 1607090331074,
     "user": {
      "displayName": "Yueheng Yin",
      "photoUrl": "",
      "userId": "06368511126596171453"
     },
     "user_tz": -480
    },
    "id": "0XUqL19v8H7U",
    "outputId": "80d595df-9ec4-466b-9650-673d15c4ce85"
   },
   "outputs": [
    {
     "name": "stdout",
     "output_type": "stream",
     "text": [
      "                                 track                          artist  \\\n",
      "0                          Wild Things                    Alessia Cara   \n",
      "1                            Surfboard                       Esquivel!   \n",
      "2                         Love Someone                    Lukas Graham   \n",
      "3  Music To My Ears (feat. Tory Lanez)                   Keys N Krates   \n",
      "4        Juju On That Beat (TZ Anthem)  Zay Hilfigerrr & Zayion McCall   \n",
      "5           Here's To Never Growing Up                   Avril Lavigne   \n",
      "6                     Sex Metal Barbie                  In This Moment   \n",
      "7                        Helluva Night                        Ludacris   \n",
      "8                      Holiday With HH                         No Bros   \n",
      "9                              My Last  Big Sean Featuring Chris Brown   \n",
      "\n",
      "                                    uri  danceability  energy  key  loudness  \\\n",
      "0  spotify:track:2ZyuwVvV6Z3XJaXIFbspeE         0.741   0.626    1    -4.826   \n",
      "1  spotify:track:61APOtq25SCMuK0V5w2Kgp         0.447   0.247    5   -14.661   \n",
      "2  spotify:track:2JqnpexlO9dmvjUMCaLCLJ         0.550   0.415    9    -6.557   \n",
      "3  spotify:track:0cjfLhk8WJ3etPTCseKXtk         0.502   0.648    0    -5.698   \n",
      "4  spotify:track:1lItf5ZXJc1by9SbPeljFd         0.807   0.887    1    -3.892   \n",
      "5  spotify:track:0qwcGscxUHGZTgq0zcaqk1         0.482   0.873    0    -3.145   \n",
      "6  spotify:track:75BGF4LC7AOLFfxn6ukZDH         0.533   0.935    0    -3.704   \n",
      "7  spotify:track:0flKDWZq11997Fb2ptkQvu         0.736   0.522    2    -8.020   \n",
      "8  spotify:track:7LBa0KNFR8IY3g7LOfXqu8         0.166   0.985    7    -2.886   \n",
      "9  spotify:track:70tFuqBcduJv15bEnOPRTh         0.387   0.773    8    -5.685   \n",
      "\n",
      "   mode  speechiness  acousticness  instrumentalness  liveness  valence  \\\n",
      "0     0       0.0886       0.02000            0.0000    0.0828    0.706   \n",
      "1     0       0.0346       0.87100            0.8140    0.0946    0.250   \n",
      "2     0       0.0520       0.16100            0.0000    0.1080    0.274   \n",
      "3     0       0.0527       0.00513            0.0000    0.2040    0.291   \n",
      "4     1       0.2750       0.00381            0.0000    0.3910    0.780   \n",
      "5     1       0.0853       0.01110            0.0000    0.4090    0.737   \n",
      "6     1       0.1280       0.01390            0.0000    0.1680    0.481   \n",
      "7     1       0.1160       0.02990            0.0000    0.1080    0.369   \n",
      "8     1       0.1700       0.00183            0.0142    0.9580    0.139   \n",
      "9     1       0.1700       0.09800            0.0000    0.2090    0.368   \n",
      "\n",
      "     tempo  duration_ms  time_signature  chorus_hit  sections  target  \n",
      "0  108.029       188493               4    41.18681        10       1  \n",
      "1  155.489       176880               3    33.18083         9       0  \n",
      "2  172.065       205463               4    44.89147         9       1  \n",
      "3   91.837       193043               4    29.52521         7       0  \n",
      "4  160.517       144244               4    24.99199         8       1  \n",
      "5  165.084       214320               4    32.17301        12       1  \n",
      "6  140.092       262493               4    21.04510        14       0  \n",
      "7   97.547       200387               4    60.21027        10       1  \n",
      "8  174.725       252787               4    31.23583        11       0  \n",
      "9   78.629       254120               4    23.30245         9       1  \n",
      "['track' 'artist' 'uri' 'danceability' 'energy' 'key' 'loudness' 'mode'\n",
      " 'speechiness' 'acousticness' 'instrumentalness' 'liveness' 'valence'\n",
      " 'tempo' 'duration_ms' 'time_signature' 'chorus_hit' 'sections' 'target']\n",
      "(6398, 19)\n"
     ]
    },
    {
     "data": {
      "text/plain": [
       "track               0\n",
       "artist              0\n",
       "uri                 0\n",
       "danceability        0\n",
       "energy              0\n",
       "key                 0\n",
       "loudness            0\n",
       "mode                0\n",
       "speechiness         0\n",
       "acousticness        0\n",
       "instrumentalness    0\n",
       "liveness            0\n",
       "valence             0\n",
       "tempo               0\n",
       "duration_ms         0\n",
       "time_signature      0\n",
       "chorus_hit          0\n",
       "sections            0\n",
       "target              0\n",
       "dtype: int64"
      ]
     },
     "execution_count": 2,
     "metadata": {},
     "output_type": "execute_result"
    }
   ],
   "source": [
    "import pandas as pd\n",
    "df = pd.read_csv('dataset-of-10s.csv')\n",
    "print(df.head(10))\n",
    "print(df.columns.values)\n",
    "print(df.shape)\n",
    "df.isnull().sum()"
   ]
  },
  {
   "cell_type": "code",
   "execution_count": 3,
   "metadata": {
    "executionInfo": {
     "elapsed": 1519,
     "status": "ok",
     "timestamp": 1607090334056,
     "user": {
      "displayName": "Yueheng Yin",
      "photoUrl": "",
      "userId": "06368511126596171453"
     },
     "user_tz": -480
    },
    "id": "l-Fji5sLDOO8"
   },
   "outputs": [],
   "source": [
    "rvar_list = ['track','artist','uri']\n",
    "df_sample1 = df.drop(columns=rvar_list)\n",
    "nvar_list = ['danceability','energy','loudness','speechiness','acousticness','instrumentalness','liveness','valence','tempo','duration_ms','chorus_hit']\n",
    "cvar_list = ['key','mode','time_signature','sections','target']"
   ]
  },
  {
   "cell_type": "code",
   "execution_count": 4,
   "metadata": {
    "colab": {
     "base_uri": "https://localhost:8080/"
    },
    "executionInfo": {
     "elapsed": 1947,
     "status": "ok",
     "timestamp": 1607090396951,
     "user": {
      "displayName": "Yueheng Yin",
      "photoUrl": "",
      "userId": "06368511126596171453"
     },
     "user_tz": -480
    },
    "id": "EjkQauTueptw",
    "outputId": "f9b6dcd5-7d81-4f7b-a5da-f81aaf4f43f7"
   },
   "outputs": [
    {
     "name": "stdout",
     "output_type": "stream",
     "text": [
      "      danceability    energy key  loudness mode  speechiness  acousticness  \\\n",
      "0         0.904422 -0.173464   1  0.527987    0    -0.096872     -0.663427   \n",
      "1        -0.634020 -1.747898   5 -1.350860    0    -0.652289      2.203486   \n",
      "2        -0.095042 -1.049996   9  0.197302    0    -0.473321     -0.188416   \n",
      "3        -0.346216 -0.082072   0  0.361403    0    -0.466121     -0.713522   \n",
      "4         1.249786  0.910777   1  0.706415    1     1.820344     -0.717969   \n",
      "...            ...       ...  ..       ...  ...          ...           ...   \n",
      "6393     -2.073038 -1.286784   9 -1.306731    1    -0.656403      2.254019   \n",
      "6394      1.788764 -1.253550   1 -0.451650    1    -0.040302     -0.395265   \n",
      "6395      0.789300  0.565980  10  0.574791    1    -0.643032     -0.686336   \n",
      "6396      0.166598 -2.038690   7 -1.620031    1    -0.431151      2.601013   \n",
      "6397     -2.339911 -2.263016   4 -2.948693    0    -0.552519      2.516791   \n",
      "\n",
      "      instrumentalness  liveness   valence     tempo  duration_ms  \\\n",
      "0            -0.518588 -0.685529  1.067094 -0.479937    -0.562972   \n",
      "1             2.035250 -0.614508 -0.788256  1.110152    -0.698579   \n",
      "2            -0.518588 -0.533858 -0.690606  1.665510    -0.364810   \n",
      "3            -0.518588  0.043939 -0.621437 -1.022430    -0.509841   \n",
      "4            -0.518588  1.169438  1.368181  1.278609    -1.079676   \n",
      "...                ...       ...       ...       ...          ...   \n",
      "6393          2.512134  0.705997 -1.658562 -1.677931    -1.002455   \n",
      "6394         -0.518588  0.387005  1.205431 -0.079366    -0.989108   \n",
      "6395         -0.518579 -0.347278  0.656150 -0.078897    -0.104443   \n",
      "6396          2.204669 -0.287090  0.473056 -0.077858    -0.272280   \n",
      "6397          1.665037 -0.563951 -1.684602 -0.910360     1.222507   \n",
      "\n",
      "     time_signature  chorus_hit sections target  \n",
      "0                 4    0.008095       10      1  \n",
      "1                 3   -0.401024        9      0  \n",
      "2                 4    0.197409        9      1  \n",
      "3                 4   -0.587832        7      0  \n",
      "4                 4   -0.819487        8      1  \n",
      "...             ...         ...      ...    ...  \n",
      "6393              4   -0.854428        7      0  \n",
      "6394              4   -0.433845        8      1  \n",
      "6395              4   -1.037093        7      1  \n",
      "6396              4   -0.990115       14      0  \n",
      "6397              4    1.534330       15      0  \n",
      "\n",
      "[6398 rows x 16 columns]\n"
     ]
    }
   ],
   "source": [
    "df_sample2 = df_sample1.copy()\n",
    "df_sample2[cvar_list] = df_sample1[cvar_list].astype('category')\n",
    "df_sample2[nvar_list] = df_sample1[nvar_list].astype('float64')\n",
    "\n",
    "df_sample3 = df_sample2.copy()\n",
    "df_sample3[nvar_list] = (df_sample2[nvar_list]-df_sample1[nvar_list].mean())/df_sample1[nvar_list].std()\n",
    "print(df_sample3)"
   ]
  },
  {
   "cell_type": "code",
   "execution_count": 5,
   "metadata": {
    "colab": {
     "base_uri": "https://localhost:8080/"
    },
    "executionInfo": {
     "elapsed": 1359,
     "status": "ok",
     "timestamp": 1607090420521,
     "user": {
      "displayName": "Yueheng Yin",
      "photoUrl": "",
      "userId": "06368511126596171453"
     },
     "user_tz": -480
    },
    "id": "I5CfWavtfsCp",
    "outputId": "5c2bc9a3-a85d-4dee-e2f0-307ab87d1a86"
   },
   "outputs": [
    {
     "name": "stdout",
     "output_type": "stream",
     "text": [
      "key               1\n",
      "mode              1\n",
      "time_signature    4\n",
      "sections          9\n",
      "target            0\n",
      "Name: 0, dtype: object\n",
      "['danceability' 'energy' 'loudness' 'speechiness' 'acousticness'\n",
      " 'instrumentalness' 'liveness' 'valence' 'tempo' 'duration_ms'\n",
      " 'chorus_hit' 'key_0' 'key_1' 'key_2' 'key_3' 'key_4' 'key_5' 'key_6'\n",
      " 'key_7' 'key_8' 'key_9' 'key_10' 'key_11' 'mode_0' 'mode_1'\n",
      " 'time_signature_0' 'time_signature_1' 'time_signature_3'\n",
      " 'time_signature_4' 'time_signature_5' 'sections_2' 'sections_3'\n",
      " 'sections_4' 'sections_5' 'sections_6' 'sections_7' 'sections_8'\n",
      " 'sections_9' 'sections_10' 'sections_11' 'sections_12' 'sections_13'\n",
      " 'sections_14' 'sections_15' 'sections_16' 'sections_17' 'sections_18'\n",
      " 'sections_19' 'sections_20' 'sections_21' 'sections_22' 'sections_23'\n",
      " 'sections_24' 'sections_25' 'sections_26' 'sections_27' 'sections_28'\n",
      " 'sections_29' 'sections_30' 'sections_31' 'sections_32' 'sections_33'\n",
      " 'sections_37' 'sections_40' 'sections_41' 'sections_42' 'sections_45'\n",
      " 'sections_49' 'sections_57' 'sections_88' 'target_0' 'target_1']\n",
      "      danceability    energy  loudness  speechiness  acousticness  \\\n",
      "0         0.904422 -0.173464  0.527987    -0.096872     -0.663427   \n",
      "1        -0.634020 -1.747898 -1.350860    -0.652289      2.203486   \n",
      "2        -0.095042 -1.049996  0.197302    -0.473321     -0.188416   \n",
      "3        -0.346216 -0.082072  0.361403    -0.466121     -0.713522   \n",
      "4         1.249786  0.910777  0.706415     1.820344     -0.717969   \n",
      "...            ...       ...       ...          ...           ...   \n",
      "6393     -2.073038 -1.286784 -1.306731    -0.656403      2.254019   \n",
      "6394      1.788764 -1.253550 -0.451650    -0.040302     -0.395265   \n",
      "6395      0.789300  0.565980  0.574791    -0.643032     -0.686336   \n",
      "6396      0.166598 -2.038690 -1.620031    -0.431151      2.601013   \n",
      "6397     -2.339911 -2.263016 -2.948693    -0.552519      2.516791   \n",
      "\n",
      "      instrumentalness  liveness   valence     tempo  duration_ms  ...  \\\n",
      "0            -0.518588 -0.685529  1.067094 -0.479937    -0.562972  ...   \n",
      "1             2.035250 -0.614508 -0.788256  1.110152    -0.698579  ...   \n",
      "2            -0.518588 -0.533858 -0.690606  1.665510    -0.364810  ...   \n",
      "3            -0.518588  0.043939 -0.621437 -1.022430    -0.509841  ...   \n",
      "4            -0.518588  1.169438  1.368181  1.278609    -1.079676  ...   \n",
      "...                ...       ...       ...       ...          ...  ...   \n",
      "6393          2.512134  0.705997 -1.658562 -1.677931    -1.002455  ...   \n",
      "6394         -0.518588  0.387005  1.205431 -0.079366    -0.989108  ...   \n",
      "6395         -0.518579 -0.347278  0.656150 -0.078897    -0.104443  ...   \n",
      "6396          2.204669 -0.287090  0.473056 -0.077858    -0.272280  ...   \n",
      "6397          1.665037 -0.563951 -1.684602 -0.910360     1.222507  ...   \n",
      "\n",
      "      sections_33  sections_37  sections_40  sections_41  sections_42  \\\n",
      "0               0            0            0            0            0   \n",
      "1               0            0            0            0            0   \n",
      "2               0            0            0            0            0   \n",
      "3               0            0            0            0            0   \n",
      "4               0            0            0            0            0   \n",
      "...           ...          ...          ...          ...          ...   \n",
      "6393            0            0            0            0            0   \n",
      "6394            0            0            0            0            0   \n",
      "6395            0            0            0            0            0   \n",
      "6396            0            0            0            0            0   \n",
      "6397            0            0            0            0            0   \n",
      "\n",
      "      sections_45  sections_49  sections_57  sections_88  target_1  \n",
      "0               0            0            0            0         1  \n",
      "1               0            0            0            0         0  \n",
      "2               0            0            0            0         1  \n",
      "3               0            0            0            0         0  \n",
      "4               0            0            0            0         1  \n",
      "...           ...          ...          ...          ...       ...  \n",
      "6393            0            0            0            0         0  \n",
      "6394            0            0            0            0         1  \n",
      "6395            0            0            0            0         1  \n",
      "6396            0            0            0            0         0  \n",
      "6397            0            0            0            0         0  \n",
      "\n",
      "[6398 rows x 67 columns]\n"
     ]
    }
   ],
   "source": [
    "print(df_sample3[cvar_list].mode().loc[0,:])\n",
    "df_sample4 = df_sample3.copy()\n",
    "df_sample4 = pd.get_dummies(df_sample3,prefix_sep='_')\n",
    "print(df_sample4.columns.values)\n",
    "\n",
    "rdummies = ['key_1', 'mode_1', 'time_signature_4', 'sections_9', 'target_0']\n",
    "df_sample5 = df_sample4.copy()\n",
    "df_sample5 = df_sample4.drop(columns=rdummies)\n",
    "print(df_sample5)"
   ]
  },
  {
   "cell_type": "code",
   "execution_count": 6,
   "metadata": {
    "colab": {
     "base_uri": "https://localhost:8080/"
    },
    "executionInfo": {
     "elapsed": 951,
     "status": "ok",
     "timestamp": 1607090612393,
     "user": {
      "displayName": "Yueheng Yin",
      "photoUrl": "",
      "userId": "06368511126596171453"
     },
     "user_tz": -480
    },
    "id": "kBlS_axWDiWa",
    "outputId": "a2e05b0d-af9c-43e5-cae2-9a9433f5c66b"
   },
   "outputs": [
    {
     "name": "stdout",
     "output_type": "stream",
     "text": [
      "      danceability    energy  loudness  speechiness  acousticness  \\\n",
      "2730      1.197458 -0.248239  0.285370    -0.408522     -0.727032   \n",
      "556      -1.235791 -0.136076  0.369999    -0.084529     -0.195154   \n",
      "993       0.454401  0.694760  0.790663    -0.401323     -0.576173   \n",
      "1748      1.710272 -0.539032  0.488633     2.550614     -0.626707   \n",
      "4909      1.082337  0.212875  0.263210    -0.560748     -0.286113   \n",
      "...            ...       ...       ...          ...           ...   \n",
      "905      -0.717745  0.865081  0.282887    -0.331381     -0.471065   \n",
      "5192      0.077640  0.183796  0.185649    -0.452750     -0.578532   \n",
      "3980      0.271253 -0.227468  0.336186    -0.190470     -0.526314   \n",
      "235       0.177063  1.193261  0.516143     0.575799     -0.727473   \n",
      "5157      0.564290  1.110177  0.781493    -0.090701     -0.699912   \n",
      "\n",
      "      instrumentalness  liveness   valence     tempo  duration_ms  ...  \\\n",
      "2730         -0.518348 -0.733679 -0.165737  0.189167     0.499817  ...   \n",
      "556          -0.518579 -0.823358 -0.743500  2.140728    -0.411168  ...   \n",
      "993          -0.518588  1.277775 -1.134100 -1.049300    -0.540563  ...   \n",
      "1748          0.203012 -0.509783  1.563481  0.255605     0.038486  ...   \n",
      "4909         -0.518583 -0.785440  1.091506 -0.162187     0.108864  ...   \n",
      "...                ...       ...       ...       ...          ...  ...   \n",
      "905          -0.518531 -0.583211  0.306238  1.261287     0.937478  ...   \n",
      "5192         -0.518588 -0.136623  1.001994  1.257970    -0.475463  ...   \n",
      "3980         -0.518588 -0.479689  0.159763 -1.337600    -0.046373  ...   \n",
      "235          -0.476861  0.061995 -1.020175  0.122461     0.426098  ...   \n",
      "5157         -0.518588 -0.600063  1.457694  0.756854     0.090064  ...   \n",
      "\n",
      "      sections_33  sections_37  sections_40  sections_41  sections_42  \\\n",
      "2730            0            0            0            0            0   \n",
      "556             0            0            0            0            0   \n",
      "993             0            0            0            0            0   \n",
      "1748            0            0            0            0            0   \n",
      "4909            0            0            0            0            0   \n",
      "...           ...          ...          ...          ...          ...   \n",
      "905             0            0            0            0            0   \n",
      "5192            0            0            0            0            0   \n",
      "3980            0            0            0            0            0   \n",
      "235             0            0            0            0            0   \n",
      "5157            0            0            0            0            0   \n",
      "\n",
      "      sections_45  sections_49  sections_57  sections_88  target_1  \n",
      "2730            0            0            0            0         1  \n",
      "556             0            0            0            0         1  \n",
      "993             0            0            0            0         1  \n",
      "1748            0            0            0            0         0  \n",
      "4909            0            0            0            0         1  \n",
      "...           ...          ...          ...          ...       ...  \n",
      "905             0            0            0            0         1  \n",
      "5192            0            0            0            0         1  \n",
      "3980            0            0            0            0         1  \n",
      "235             0            0            0            0         0  \n",
      "5157            0            0            0            0         0  \n",
      "\n",
      "[5118 rows x 67 columns]\n"
     ]
    }
   ],
   "source": [
    "from sklearn.model_selection import train_test_split\n",
    "df4partition = df_sample5\n",
    "testpart_size = 0.2\n",
    "df_nontestdata, df_testdata = train_test_split(df4partition,test_size=testpart_size,random_state=1)\n",
    "print(df_nontestdata)"
   ]
  },
  {
   "cell_type": "code",
   "execution_count": 7,
   "metadata": {
    "colab": {
     "base_uri": "https://localhost:8080/"
    },
    "executionInfo": {
     "elapsed": 2688,
     "status": "ok",
     "timestamp": 1607090630722,
     "user": {
      "displayName": "Yueheng Yin",
      "photoUrl": "",
      "userId": "06368511126596171453"
     },
     "user_tz": -480
    },
    "id": "r-kyW2HsDxAD",
    "outputId": "6a3a1dcb-3a84-4c6b-99a8-9ba8a5a977d5"
   },
   "outputs": [
    {
     "name": "stdout",
     "output_type": "stream",
     "text": [
      "                     0\n",
      "danceability  0.553940\n",
      "energy       -1.504762\n",
      "loudness      2.058071\n",
      "speechiness   0.056117\n",
      "acousticness -0.486540\n",
      "...                ...\n",
      "sections_45   0.000000\n",
      "sections_49   0.000000\n",
      "sections_57   0.000000\n",
      "sections_88   0.000000\n",
      "Intercept    -0.911711\n",
      "\n",
      "[67 rows x 1 columns]\n"
     ]
    },
    {
     "name": "stderr",
     "output_type": "stream",
     "text": [
      "/opt/anaconda3/lib/python3.8/site-packages/sklearn/linear_model/_sag.py:329: ConvergenceWarning: The max_iter was reached which means the coef_ did not converge\n",
      "  warnings.warn(\"The max_iter was reached which means \"\n"
     ]
    }
   ],
   "source": [
    "from sklearn.linear_model import LogisticRegression,LogisticRegressionCV\n",
    "DV = 'target_1'\n",
    "y = df_nontestdata[DV]\n",
    "x = df_nontestdata.drop(columns=[DV])\n",
    "alpha = 1\n",
    "clf = LogisticRegression(C=1/alpha,penalty='l1',solver='saga',max_iter=200,random_state=1).fit(x,y)\n",
    "def summary_coef(model_object):\n",
    "  n_predictors = x.shape[1]\n",
    "  model_coef=pd.DataFrame(model_object.coef_.reshape(1,n_predictors),columns=x.columns.values)\n",
    "  model_coef['Intercept']=model_object.intercept_\n",
    "  return model_coef.transpose()\n",
    "print(summary_coef(clf))"
   ]
  },
  {
   "cell_type": "code",
   "execution_count": 9,
   "metadata": {
    "scrolled": true
   },
   "outputs": [
    {
     "ename": "TypeError",
     "evalue": "write() argument must be str, not DataFrame",
     "output_type": "error",
     "traceback": [
      "\u001b[0;31m---------------------------------------------------------------------------\u001b[0m",
      "\u001b[0;31mTypeError\u001b[0m                                 Traceback (most recent call last)",
      "\u001b[0;32m<ipython-input-9-78089ed5bdd2>\u001b[0m in \u001b[0;36m<module>\u001b[0;34m\u001b[0m\n\u001b[1;32m      1\u001b[0m \u001b[0mfilename\u001b[0m \u001b[0;34m=\u001b[0m \u001b[0;34m'logisticregression.csv'\u001b[0m\u001b[0;34m\u001b[0m\u001b[0;34m\u001b[0m\u001b[0m\n\u001b[1;32m      2\u001b[0m \u001b[0mf\u001b[0m \u001b[0;34m=\u001b[0m \u001b[0mopen\u001b[0m\u001b[0;34m(\u001b[0m\u001b[0mfilename\u001b[0m\u001b[0;34m,\u001b[0m \u001b[0;34m'w'\u001b[0m\u001b[0;34m)\u001b[0m\u001b[0;34m\u001b[0m\u001b[0;34m\u001b[0m\u001b[0m\n\u001b[0;32m----> 3\u001b[0;31m \u001b[0mf\u001b[0m\u001b[0;34m.\u001b[0m\u001b[0mwrite\u001b[0m\u001b[0;34m(\u001b[0m\u001b[0msummary_coef\u001b[0m\u001b[0;34m(\u001b[0m\u001b[0mclf\u001b[0m\u001b[0;34m)\u001b[0m\u001b[0;34m)\u001b[0m\u001b[0;34m\u001b[0m\u001b[0;34m\u001b[0m\u001b[0m\n\u001b[0m",
      "\u001b[0;31mTypeError\u001b[0m: write() argument must be str, not DataFrame"
     ]
    }
   ],
   "source": [
    "filename = 'logisticregression.csv'\n",
    "f = open(filename, 'w')\n",
    "f.write(summary_coef(clf))"
   ]
  },
  {
   "cell_type": "code",
   "execution_count": 8,
   "metadata": {
    "colab": {
     "base_uri": "https://localhost:8080/",
     "height": 1000
    },
    "executionInfo": {
     "elapsed": 199469,
     "status": "error",
     "timestamp": 1607090966986,
     "user": {
      "displayName": "Yueheng Yin",
      "photoUrl": "",
      "userId": "06368511126596171453"
     },
     "user_tz": -480
    },
    "id": "shoOpubBER3Q",
    "outputId": "0445a4df-db28-4409-e30b-c4a5fa782320"
   },
   "outputs": [
    {
     "name": "stderr",
     "output_type": "stream",
     "text": [
      "/opt/anaconda3/lib/python3.8/site-packages/sklearn/linear_model/_sag.py:329: ConvergenceWarning: The max_iter was reached which means the coef_ did not converge\n",
      "  warnings.warn(\"The max_iter was reached which means \"\n",
      "/opt/anaconda3/lib/python3.8/site-packages/sklearn/linear_model/_sag.py:329: ConvergenceWarning: The max_iter was reached which means the coef_ did not converge\n",
      "  warnings.warn(\"The max_iter was reached which means \"\n",
      "/opt/anaconda3/lib/python3.8/site-packages/sklearn/linear_model/_sag.py:329: ConvergenceWarning: The max_iter was reached which means the coef_ did not converge\n",
      "  warnings.warn(\"The max_iter was reached which means \"\n",
      "/opt/anaconda3/lib/python3.8/site-packages/sklearn/linear_model/_sag.py:329: ConvergenceWarning: The max_iter was reached which means the coef_ did not converge\n",
      "  warnings.warn(\"The max_iter was reached which means \"\n",
      "/opt/anaconda3/lib/python3.8/site-packages/sklearn/linear_model/_sag.py:329: ConvergenceWarning: The max_iter was reached which means the coef_ did not converge\n",
      "  warnings.warn(\"The max_iter was reached which means \"\n",
      "/opt/anaconda3/lib/python3.8/site-packages/sklearn/linear_model/_sag.py:329: ConvergenceWarning: The max_iter was reached which means the coef_ did not converge\n",
      "  warnings.warn(\"The max_iter was reached which means \"\n",
      "/opt/anaconda3/lib/python3.8/site-packages/sklearn/linear_model/_sag.py:329: ConvergenceWarning: The max_iter was reached which means the coef_ did not converge\n",
      "  warnings.warn(\"The max_iter was reached which means \"\n",
      "/opt/anaconda3/lib/python3.8/site-packages/sklearn/linear_model/_sag.py:329: ConvergenceWarning: The max_iter was reached which means the coef_ did not converge\n",
      "  warnings.warn(\"The max_iter was reached which means \"\n",
      "/opt/anaconda3/lib/python3.8/site-packages/sklearn/linear_model/_sag.py:329: ConvergenceWarning: The max_iter was reached which means the coef_ did not converge\n",
      "  warnings.warn(\"The max_iter was reached which means \"\n",
      "/opt/anaconda3/lib/python3.8/site-packages/sklearn/linear_model/_sag.py:329: ConvergenceWarning: The max_iter was reached which means the coef_ did not converge\n",
      "  warnings.warn(\"The max_iter was reached which means \"\n",
      "/opt/anaconda3/lib/python3.8/site-packages/sklearn/linear_model/_sag.py:329: ConvergenceWarning: The max_iter was reached which means the coef_ did not converge\n",
      "  warnings.warn(\"The max_iter was reached which means \"\n",
      "/opt/anaconda3/lib/python3.8/site-packages/sklearn/linear_model/_sag.py:329: ConvergenceWarning: The max_iter was reached which means the coef_ did not converge\n",
      "  warnings.warn(\"The max_iter was reached which means \"\n",
      "/opt/anaconda3/lib/python3.8/site-packages/sklearn/linear_model/_sag.py:329: ConvergenceWarning: The max_iter was reached which means the coef_ did not converge\n",
      "  warnings.warn(\"The max_iter was reached which means \"\n",
      "/opt/anaconda3/lib/python3.8/site-packages/sklearn/linear_model/_sag.py:329: ConvergenceWarning: The max_iter was reached which means the coef_ did not converge\n",
      "  warnings.warn(\"The max_iter was reached which means \"\n",
      "/opt/anaconda3/lib/python3.8/site-packages/sklearn/linear_model/_sag.py:329: ConvergenceWarning: The max_iter was reached which means the coef_ did not converge\n",
      "  warnings.warn(\"The max_iter was reached which means \"\n",
      "/opt/anaconda3/lib/python3.8/site-packages/sklearn/linear_model/_sag.py:329: ConvergenceWarning: The max_iter was reached which means the coef_ did not converge\n",
      "  warnings.warn(\"The max_iter was reached which means \"\n",
      "/opt/anaconda3/lib/python3.8/site-packages/sklearn/linear_model/_sag.py:329: ConvergenceWarning: The max_iter was reached which means the coef_ did not converge\n",
      "  warnings.warn(\"The max_iter was reached which means \"\n",
      "/opt/anaconda3/lib/python3.8/site-packages/sklearn/linear_model/_sag.py:329: ConvergenceWarning: The max_iter was reached which means the coef_ did not converge\n",
      "  warnings.warn(\"The max_iter was reached which means \"\n",
      "/opt/anaconda3/lib/python3.8/site-packages/sklearn/linear_model/_sag.py:329: ConvergenceWarning: The max_iter was reached which means the coef_ did not converge\n",
      "  warnings.warn(\"The max_iter was reached which means \"\n",
      "/opt/anaconda3/lib/python3.8/site-packages/sklearn/linear_model/_sag.py:329: ConvergenceWarning: The max_iter was reached which means the coef_ did not converge\n",
      "  warnings.warn(\"The max_iter was reached which means \"\n",
      "/opt/anaconda3/lib/python3.8/site-packages/sklearn/linear_model/_sag.py:329: ConvergenceWarning: The max_iter was reached which means the coef_ did not converge\n",
      "  warnings.warn(\"The max_iter was reached which means \"\n",
      "/opt/anaconda3/lib/python3.8/site-packages/sklearn/linear_model/_sag.py:329: ConvergenceWarning: The max_iter was reached which means the coef_ did not converge\n",
      "  warnings.warn(\"The max_iter was reached which means \"\n",
      "/opt/anaconda3/lib/python3.8/site-packages/sklearn/linear_model/_sag.py:329: ConvergenceWarning: The max_iter was reached which means the coef_ did not converge\n",
      "  warnings.warn(\"The max_iter was reached which means \"\n",
      "/opt/anaconda3/lib/python3.8/site-packages/sklearn/linear_model/_sag.py:329: ConvergenceWarning: The max_iter was reached which means the coef_ did not converge\n",
      "  warnings.warn(\"The max_iter was reached which means \"\n",
      "/opt/anaconda3/lib/python3.8/site-packages/sklearn/linear_model/_sag.py:329: ConvergenceWarning: The max_iter was reached which means the coef_ did not converge\n",
      "  warnings.warn(\"The max_iter was reached which means \"\n",
      "/opt/anaconda3/lib/python3.8/site-packages/sklearn/linear_model/_sag.py:329: ConvergenceWarning: The max_iter was reached which means the coef_ did not converge\n",
      "  warnings.warn(\"The max_iter was reached which means \"\n",
      "/opt/anaconda3/lib/python3.8/site-packages/sklearn/linear_model/_sag.py:329: ConvergenceWarning: The max_iter was reached which means the coef_ did not converge\n",
      "  warnings.warn(\"The max_iter was reached which means \"\n",
      "/opt/anaconda3/lib/python3.8/site-packages/sklearn/linear_model/_sag.py:329: ConvergenceWarning: The max_iter was reached which means the coef_ did not converge\n",
      "  warnings.warn(\"The max_iter was reached which means \"\n",
      "/opt/anaconda3/lib/python3.8/site-packages/sklearn/linear_model/_sag.py:329: ConvergenceWarning: The max_iter was reached which means the coef_ did not converge\n",
      "  warnings.warn(\"The max_iter was reached which means \"\n",
      "/opt/anaconda3/lib/python3.8/site-packages/sklearn/linear_model/_sag.py:329: ConvergenceWarning: The max_iter was reached which means the coef_ did not converge\n",
      "  warnings.warn(\"The max_iter was reached which means \"\n",
      "/opt/anaconda3/lib/python3.8/site-packages/sklearn/linear_model/_sag.py:329: ConvergenceWarning: The max_iter was reached which means the coef_ did not converge\n",
      "  warnings.warn(\"The max_iter was reached which means \"\n",
      "/opt/anaconda3/lib/python3.8/site-packages/sklearn/linear_model/_sag.py:329: ConvergenceWarning: The max_iter was reached which means the coef_ did not converge\n",
      "  warnings.warn(\"The max_iter was reached which means \"\n",
      "/opt/anaconda3/lib/python3.8/site-packages/sklearn/linear_model/_sag.py:329: ConvergenceWarning: The max_iter was reached which means the coef_ did not converge\n",
      "  warnings.warn(\"The max_iter was reached which means \"\n",
      "/opt/anaconda3/lib/python3.8/site-packages/sklearn/linear_model/_sag.py:329: ConvergenceWarning: The max_iter was reached which means the coef_ did not converge\n",
      "  warnings.warn(\"The max_iter was reached which means \"\n",
      "/opt/anaconda3/lib/python3.8/site-packages/sklearn/linear_model/_sag.py:329: ConvergenceWarning: The max_iter was reached which means the coef_ did not converge\n",
      "  warnings.warn(\"The max_iter was reached which means \"\n",
      "/opt/anaconda3/lib/python3.8/site-packages/sklearn/linear_model/_sag.py:329: ConvergenceWarning: The max_iter was reached which means the coef_ did not converge\n",
      "  warnings.warn(\"The max_iter was reached which means \"\n",
      "/opt/anaconda3/lib/python3.8/site-packages/sklearn/linear_model/_sag.py:329: ConvergenceWarning: The max_iter was reached which means the coef_ did not converge\n",
      "  warnings.warn(\"The max_iter was reached which means \"\n",
      "/opt/anaconda3/lib/python3.8/site-packages/sklearn/linear_model/_sag.py:329: ConvergenceWarning: The max_iter was reached which means the coef_ did not converge\n",
      "  warnings.warn(\"The max_iter was reached which means \"\n",
      "/opt/anaconda3/lib/python3.8/site-packages/sklearn/linear_model/_sag.py:329: ConvergenceWarning: The max_iter was reached which means the coef_ did not converge\n",
      "  warnings.warn(\"The max_iter was reached which means \"\n",
      "/opt/anaconda3/lib/python3.8/site-packages/sklearn/linear_model/_sag.py:329: ConvergenceWarning: The max_iter was reached which means the coef_ did not converge\n",
      "  warnings.warn(\"The max_iter was reached which means \"\n",
      "/opt/anaconda3/lib/python3.8/site-packages/sklearn/linear_model/_sag.py:329: ConvergenceWarning: The max_iter was reached which means the coef_ did not converge\n",
      "  warnings.warn(\"The max_iter was reached which means \"\n",
      "/opt/anaconda3/lib/python3.8/site-packages/sklearn/linear_model/_sag.py:329: ConvergenceWarning: The max_iter was reached which means the coef_ did not converge\n",
      "  warnings.warn(\"The max_iter was reached which means \"\n",
      "/opt/anaconda3/lib/python3.8/site-packages/sklearn/linear_model/_sag.py:329: ConvergenceWarning: The max_iter was reached which means the coef_ did not converge\n",
      "  warnings.warn(\"The max_iter was reached which means \"\n",
      "/opt/anaconda3/lib/python3.8/site-packages/sklearn/linear_model/_sag.py:329: ConvergenceWarning: The max_iter was reached which means the coef_ did not converge\n",
      "  warnings.warn(\"The max_iter was reached which means \"\n",
      "/opt/anaconda3/lib/python3.8/site-packages/sklearn/linear_model/_sag.py:329: ConvergenceWarning: The max_iter was reached which means the coef_ did not converge\n",
      "  warnings.warn(\"The max_iter was reached which means \"\n",
      "/opt/anaconda3/lib/python3.8/site-packages/sklearn/linear_model/_sag.py:329: ConvergenceWarning: The max_iter was reached which means the coef_ did not converge\n",
      "  warnings.warn(\"The max_iter was reached which means \"\n",
      "/opt/anaconda3/lib/python3.8/site-packages/sklearn/linear_model/_sag.py:329: ConvergenceWarning: The max_iter was reached which means the coef_ did not converge\n",
      "  warnings.warn(\"The max_iter was reached which means \"\n",
      "/opt/anaconda3/lib/python3.8/site-packages/sklearn/linear_model/_sag.py:329: ConvergenceWarning: The max_iter was reached which means the coef_ did not converge\n",
      "  warnings.warn(\"The max_iter was reached which means \"\n",
      "/opt/anaconda3/lib/python3.8/site-packages/sklearn/linear_model/_sag.py:329: ConvergenceWarning: The max_iter was reached which means the coef_ did not converge\n",
      "  warnings.warn(\"The max_iter was reached which means \"\n",
      "/opt/anaconda3/lib/python3.8/site-packages/sklearn/linear_model/_sag.py:329: ConvergenceWarning: The max_iter was reached which means the coef_ did not converge\n",
      "  warnings.warn(\"The max_iter was reached which means \"\n",
      "/opt/anaconda3/lib/python3.8/site-packages/sklearn/linear_model/_sag.py:329: ConvergenceWarning: The max_iter was reached which means the coef_ did not converge\n",
      "  warnings.warn(\"The max_iter was reached which means \"\n",
      "/opt/anaconda3/lib/python3.8/site-packages/sklearn/linear_model/_sag.py:329: ConvergenceWarning: The max_iter was reached which means the coef_ did not converge\n",
      "  warnings.warn(\"The max_iter was reached which means \"\n",
      "/opt/anaconda3/lib/python3.8/site-packages/sklearn/linear_model/_sag.py:329: ConvergenceWarning: The max_iter was reached which means the coef_ did not converge\n",
      "  warnings.warn(\"The max_iter was reached which means \"\n",
      "/opt/anaconda3/lib/python3.8/site-packages/sklearn/linear_model/_sag.py:329: ConvergenceWarning: The max_iter was reached which means the coef_ did not converge\n",
      "  warnings.warn(\"The max_iter was reached which means \"\n",
      "/opt/anaconda3/lib/python3.8/site-packages/sklearn/linear_model/_sag.py:329: ConvergenceWarning: The max_iter was reached which means the coef_ did not converge\n",
      "  warnings.warn(\"The max_iter was reached which means \"\n",
      "/opt/anaconda3/lib/python3.8/site-packages/sklearn/linear_model/_sag.py:329: ConvergenceWarning: The max_iter was reached which means the coef_ did not converge\n",
      "  warnings.warn(\"The max_iter was reached which means \"\n",
      "/opt/anaconda3/lib/python3.8/site-packages/sklearn/linear_model/_sag.py:329: ConvergenceWarning: The max_iter was reached which means the coef_ did not converge\n",
      "  warnings.warn(\"The max_iter was reached which means \"\n",
      "/opt/anaconda3/lib/python3.8/site-packages/sklearn/linear_model/_sag.py:329: ConvergenceWarning: The max_iter was reached which means the coef_ did not converge\n",
      "  warnings.warn(\"The max_iter was reached which means \"\n",
      "/opt/anaconda3/lib/python3.8/site-packages/sklearn/linear_model/_sag.py:329: ConvergenceWarning: The max_iter was reached which means the coef_ did not converge\n",
      "  warnings.warn(\"The max_iter was reached which means \"\n",
      "/opt/anaconda3/lib/python3.8/site-packages/sklearn/linear_model/_sag.py:329: ConvergenceWarning: The max_iter was reached which means the coef_ did not converge\n",
      "  warnings.warn(\"The max_iter was reached which means \"\n",
      "/opt/anaconda3/lib/python3.8/site-packages/sklearn/linear_model/_sag.py:329: ConvergenceWarning: The max_iter was reached which means the coef_ did not converge\n",
      "  warnings.warn(\"The max_iter was reached which means \"\n",
      "/opt/anaconda3/lib/python3.8/site-packages/sklearn/linear_model/_sag.py:329: ConvergenceWarning: The max_iter was reached which means the coef_ did not converge\n",
      "  warnings.warn(\"The max_iter was reached which means \"\n",
      "/opt/anaconda3/lib/python3.8/site-packages/sklearn/linear_model/_sag.py:329: ConvergenceWarning: The max_iter was reached which means the coef_ did not converge\n",
      "  warnings.warn(\"The max_iter was reached which means \"\n",
      "/opt/anaconda3/lib/python3.8/site-packages/sklearn/linear_model/_sag.py:329: ConvergenceWarning: The max_iter was reached which means the coef_ did not converge\n",
      "  warnings.warn(\"The max_iter was reached which means \"\n",
      "/opt/anaconda3/lib/python3.8/site-packages/sklearn/linear_model/_sag.py:329: ConvergenceWarning: The max_iter was reached which means the coef_ did not converge\n",
      "  warnings.warn(\"The max_iter was reached which means \"\n",
      "/opt/anaconda3/lib/python3.8/site-packages/sklearn/linear_model/_sag.py:329: ConvergenceWarning: The max_iter was reached which means the coef_ did not converge\n",
      "  warnings.warn(\"The max_iter was reached which means \"\n",
      "/opt/anaconda3/lib/python3.8/site-packages/sklearn/linear_model/_sag.py:329: ConvergenceWarning: The max_iter was reached which means the coef_ did not converge\n",
      "  warnings.warn(\"The max_iter was reached which means \"\n",
      "/opt/anaconda3/lib/python3.8/site-packages/sklearn/linear_model/_sag.py:329: ConvergenceWarning: The max_iter was reached which means the coef_ did not converge\n",
      "  warnings.warn(\"The max_iter was reached which means \"\n",
      "/opt/anaconda3/lib/python3.8/site-packages/sklearn/linear_model/_sag.py:329: ConvergenceWarning: The max_iter was reached which means the coef_ did not converge\n",
      "  warnings.warn(\"The max_iter was reached which means \"\n"
     ]
    },
    {
     "name": "stdout",
     "output_type": "stream",
     "text": [
      "                     0\n",
      "danceability  0.552592\n",
      "energy       -1.483595\n",
      "loudness      2.031144\n",
      "speechiness   0.053949\n",
      "acousticness -0.481739\n",
      "...                ...\n",
      "sections_45   0.000000\n",
      "sections_49   0.000000\n",
      "sections_57   0.000000\n",
      "sections_88   0.000000\n",
      "Intercept    -0.946333\n",
      "\n",
      "[67 rows x 1 columns]\n",
      "[2.20318018]\n"
     ]
    }
   ],
   "source": [
    "kfolds=5\n",
    "min_alpha=0.001\n",
    "max_alpha=100\n",
    "n_candidates=1000\n",
    "\n",
    "import numpy as np\n",
    "alpha_list=list(np.linspace(min_alpha,max_alpha,num=n_candidates))\n",
    "C_list=list(1/np.linspace(min_alpha,max_alpha,num=n_candidates))\n",
    "#print(alpha_list)\n",
    "#print(C_list)\n",
    "\n",
    "clf_optimal=LogisticRegressionCV(Cs=C_list,cv=kfolds,scoring='roc_auc',penalty='l1',solver='saga',max_iter=200,random_state=1,n_jobs=-1).fit(x,y)\n",
    "print(summary_coef(clf_optimal))\n",
    "print(1/clf_optimal.C_)"
   ]
  },
  {
   "cell_type": "code",
   "execution_count": 16,
   "metadata": {
    "id": "g8eXcB6dFcyo"
   },
   "outputs": [
    {
     "name": "stdout",
     "output_type": "stream",
     "text": [
      "0.8553525690329165\n"
     ]
    }
   ],
   "source": [
    "y_test_actual=df_testdata[DV]\n",
    "X_test=df_testdata.drop(columns=[DV])\n",
    "y_test_predicted= clf_optimal.predict(X_test)\n",
    "#print(y_test_predicted)\n",
    "\n",
    "from sklearn.metrics import roc_auc_score\n",
    "print(roc_auc_score(y_test_actual,clf_optimal.predict_proba(X_test)[:,1]))"
   ]
  },
  {
   "cell_type": "code",
   "execution_count": 1,
   "metadata": {
    "scrolled": true
   },
   "outputs": [
    {
     "ename": "NameError",
     "evalue": "name 'summary_coef' is not defined",
     "output_type": "error",
     "traceback": [
      "\u001b[0;31m---------------------------------------------------------------------------\u001b[0m",
      "\u001b[0;31mNameError\u001b[0m                                 Traceback (most recent call last)",
      "\u001b[0;32m<ipython-input-1-cb92a85ecb44>\u001b[0m in \u001b[0;36m<module>\u001b[0;34m\u001b[0m\n\u001b[0;32m----> 1\u001b[0;31m \u001b[0mprint\u001b[0m\u001b[0;34m(\u001b[0m\u001b[0msummary_coef\u001b[0m\u001b[0;34m(\u001b[0m\u001b[0mclf\u001b[0m\u001b[0;34m)\u001b[0m\u001b[0;34m)\u001b[0m\u001b[0;34m\u001b[0m\u001b[0;34m\u001b[0m\u001b[0m\n\u001b[0m",
      "\u001b[0;31mNameError\u001b[0m: name 'summary_coef' is not defined"
     ]
    }
   ],
   "source": []
  },
  {
   "cell_type": "code",
   "execution_count": null,
   "metadata": {},
   "outputs": [],
   "source": []
  }
 ],
 "metadata": {
  "colab": {
   "authorship_tag": "ABX9TyMu+HXvYK+24suKGU5XARmN",
   "name": "[DM2020] Project Progress Report - TeamNo.1.ipynb",
   "provenance": []
  },
  "kernelspec": {
   "display_name": "Python 3",
   "language": "python",
   "name": "python3"
  },
  "language_info": {
   "codemirror_mode": {
    "name": "ipython",
    "version": 3
   },
   "file_extension": ".py",
   "mimetype": "text/x-python",
   "name": "python",
   "nbconvert_exporter": "python",
   "pygments_lexer": "ipython3",
   "version": "3.8.3"
  }
 },
 "nbformat": 4,
 "nbformat_minor": 1
}
